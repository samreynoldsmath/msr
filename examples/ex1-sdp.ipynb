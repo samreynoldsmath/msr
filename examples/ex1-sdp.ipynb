{
 "cells": [
  {
   "cell_type": "markdown",
   "metadata": {},
   "source": [
    "# Computing MSR via an SDP relaxation\n",
    "\n",
    "This notebook implements the examples in the\n",
    "[final report](../doc/mth610-semidefprog-final-report-reynolds.pdf)\n",
    "for MTH 610: Introduction to Semidefinite Programming.\n",
    "\n",
    "First we import the source code from the `msr` package."
   ]
  },
  {
   "cell_type": "code",
   "execution_count": 1,
   "metadata": {},
   "outputs": [],
   "source": [
    "import sys\n",
    "import os\n",
    "\n",
    "current_dir = os.getcwd()\n",
    "parent_dir = os.path.abspath(os.path.join(current_dir, \"..\"))\n",
    "sys.path.append(parent_dir)\n",
    "\n",
    "import msr"
   ]
  },
  {
   "cell_type": "markdown",
   "metadata": {},
   "source": [
    "## Example 1: Even vs. odd cycles\n",
    "\n",
    "### 4-cycle"
   ]
  },
  {
   "cell_type": "code",
   "execution_count": 2,
   "metadata": {},
   "outputs": [
    {
     "name": "stdout",
     "output_type": "stream",
     "text": [
      "\tExact \t 2\n",
      "\tApprox \t 3\n"
     ]
    }
   ],
   "source": [
    "G = msr.graph.graph_lib.cycle(4)\n",
    "d = 2\n",
    "r = msr.msr_sdp_upper_bound(G)\n",
    "print('\\tExact \\t', d)\n",
    "print('\\tApprox \\t', r)"
   ]
  },
  {
   "cell_type": "markdown",
   "metadata": {},
   "source": [
    "### 5-cycle"
   ]
  },
  {
   "cell_type": "code",
   "execution_count": 3,
   "metadata": {},
   "outputs": [
    {
     "name": "stdout",
     "output_type": "stream",
     "text": [
      "\tExact \t 3\n",
      "\tApprox \t 3\n"
     ]
    }
   ],
   "source": [
    "G = msr.graph.graph_lib.cycle(5)\n",
    "d = 3\n",
    "r = msr.msr_sdp_upper_bound(G)\n",
    "print('\\tExact \\t', d)\n",
    "print('\\tApprox \\t', r)"
   ]
  },
  {
   "cell_type": "markdown",
   "metadata": {},
   "source": [
    "### House graph"
   ]
  },
  {
   "cell_type": "code",
   "execution_count": 4,
   "metadata": {},
   "outputs": [
    {
     "name": "stdout",
     "output_type": "stream",
     "text": [
      "\tExact \t 3\n",
      "\tApprox \t 3\n"
     ]
    }
   ],
   "source": [
    "G = msr.graph.graph_lib.house()\n",
    "d = 3\n",
    "r = msr.msr_sdp_upper_bound(G)\n",
    "print('\\tExact \\t', d)\n",
    "print('\\tApprox \\t', r)"
   ]
  },
  {
   "cell_type": "markdown",
   "metadata": {},
   "source": [
    "### Even chord"
   ]
  },
  {
   "cell_type": "code",
   "execution_count": 5,
   "metadata": {},
   "outputs": [
    {
     "name": "stdout",
     "output_type": "stream",
     "text": [
      "\tExact \t 4\n",
      "\tApprox \t 5\n"
     ]
    }
   ],
   "source": [
    "G = msr.graph.graph_lib.cycle(6)\n",
    "G.add_edge(1, 4)\n",
    "d = 4\n",
    "r = msr.msr_sdp_upper_bound(G)\n",
    "print('\\tExact \\t', d)\n",
    "print('\\tApprox \\t', r)"
   ]
  },
  {
   "cell_type": "markdown",
   "metadata": {},
   "source": [
    "### Odd chord"
   ]
  },
  {
   "cell_type": "code",
   "execution_count": 6,
   "metadata": {},
   "outputs": [
    {
     "name": "stdout",
     "output_type": "stream",
     "text": [
      "\tExact \t 4\n",
      "\tApprox \t 4\n",
      "\n"
     ]
    }
   ],
   "source": [
    "G = msr.graph.graph_lib.cycle(6)\n",
    "G.add_edge(1, 3)\n",
    "d = 4\n",
    "r = msr.msr_sdp_upper_bound(G)\n",
    "print('\\tExact \\t', d)\n",
    "print('\\tApprox \\t', r)\n",
    "print('')"
   ]
  },
  {
   "cell_type": "markdown",
   "metadata": {},
   "source": [
    "## Example 2: Estimating MSR via SDP for all connected graphs on $n$ vertices"
   ]
  },
  {
   "cell_type": "code",
   "execution_count": null,
   "metadata": {},
   "outputs": [],
   "source": [
    "graphs = msr.graph.load_graphs_from_directory('../msr/graph/graph_lib/n6')"
   ]
  },
  {
   "cell_type": "markdown",
   "metadata": {},
   "source": []
  }
 ],
 "metadata": {
  "kernelspec": {
   "display_name": "msr",
   "language": "python",
   "name": "python3"
  },
  "language_info": {
   "codemirror_mode": {
    "name": "ipython",
    "version": 3
   },
   "file_extension": ".py",
   "mimetype": "text/x-python",
   "name": "python",
   "nbconvert_exporter": "python",
   "pygments_lexer": "ipython3",
   "version": "3.11.4"
  },
  "orig_nbformat": 4
 },
 "nbformat": 4,
 "nbformat_minor": 2
}
