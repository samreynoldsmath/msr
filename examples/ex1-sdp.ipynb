{
 "cells": [
  {
   "cell_type": "markdown",
   "metadata": {},
   "source": [
    "# Computing MSR via an SDP relaxation\n",
    "\n",
    "This notebook implements the examples in the\n",
    "[final report](../doc/mth610-semidefprog-final-report-reynolds.pdf)\n",
    "for MTH 610: Introduction to Semidefinite Programming.\n",
    "\n",
    "First we import the source code from the `msr` package."
   ]
  },
  {
   "cell_type": "code",
   "execution_count": null,
   "metadata": {},
   "outputs": [],
   "source": [
    "import msr"
   ]
  },
  {
   "cell_type": "code",
   "execution_count": null,
   "metadata": {},
   "outputs": [],
   "source": [
    "# create a logger\n",
    "import logging\n",
    "logger = logging.getLogger(\"example1-sdp\")"
   ]
  },
  {
   "cell_type": "markdown",
   "metadata": {},
   "source": [
    "## Example 1: Even vs. odd cycles\n",
    "\n",
    "### 4-cycle"
   ]
  },
  {
   "cell_type": "code",
   "execution_count": null,
   "metadata": {},
   "outputs": [],
   "source": [
    "G = msr.graph.graph_lib.cycle(4)\n",
    "d = 2\n",
    "r = msr.msr_sdp_upper_bound(G, logger)\n",
    "print(\"\\tExact \\t\", d)\n",
    "print(\"\\tApprox \\t\", r)"
   ]
  },
  {
   "cell_type": "markdown",
   "metadata": {},
   "source": [
    "### 5-cycle"
   ]
  },
  {
   "cell_type": "code",
   "execution_count": null,
   "metadata": {},
   "outputs": [],
   "source": [
    "G = msr.graph.graph_lib.cycle(5)\n",
    "d = 3\n",
    "r = msr.msr_sdp_upper_bound(G, logger)\n",
    "print(\"\\tExact \\t\", d)\n",
    "print(\"\\tApprox \\t\", r)"
   ]
  },
  {
   "cell_type": "markdown",
   "metadata": {},
   "source": [
    "### House graph"
   ]
  },
  {
   "cell_type": "code",
   "execution_count": null,
   "metadata": {},
   "outputs": [],
   "source": [
    "G = msr.graph.graph_lib.house()\n",
    "d = 3\n",
    "r = msr.msr_sdp_upper_bound(G, logger)\n",
    "print(\"\\tExact \\t\", d)\n",
    "print(\"\\tApprox \\t\", r)"
   ]
  },
  {
   "cell_type": "markdown",
   "metadata": {},
   "source": [
    "### Even chord"
   ]
  },
  {
   "cell_type": "code",
   "execution_count": null,
   "metadata": {},
   "outputs": [],
   "source": [
    "G = msr.graph.graph_lib.cycle(6)\n",
    "G.add_edge(1, 4)\n",
    "d = 4\n",
    "r = msr.msr_sdp_upper_bound(G, logger)\n",
    "print(\"\\tExact \\t\", d)\n",
    "print(\"\\tApprox \\t\", r)"
   ]
  },
  {
   "cell_type": "markdown",
   "metadata": {},
   "source": [
    "### Odd chord"
   ]
  },
  {
   "cell_type": "code",
   "execution_count": null,
   "metadata": {},
   "outputs": [],
   "source": [
    "G = msr.graph.graph_lib.cycle(6)\n",
    "G.add_edge(1, 3)\n",
    "d = 4\n",
    "r = msr.msr_sdp_upper_bound(G, logger)\n",
    "print(\"\\tExact \\t\", d)\n",
    "print(\"\\tApprox \\t\", r)\n",
    "print(\"\")"
   ]
  }
 ],
 "metadata": {
  "kernelspec": {
   "display_name": "msr",
   "language": "python",
   "name": "python3"
  },
  "language_info": {
   "codemirror_mode": {
    "name": "ipython",
    "version": 3
   },
   "file_extension": ".py",
   "mimetype": "text/x-python",
   "name": "python",
   "nbconvert_exporter": "python",
   "pygments_lexer": "ipython3",
   "version": "3.11.6"
  },
  "orig_nbformat": 4
 },
 "nbformat": 4,
 "nbformat_minor": 2
}
